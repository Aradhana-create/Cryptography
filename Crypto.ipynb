{
  "nbformat": 4,
  "nbformat_minor": 0,
  "metadata": {
    "colab": {
      "name": "Crypto.ipynb",
      "provenance": [],
      "collapsed_sections": []
    },
    "kernelspec": {
      "name": "python3",
      "display_name": "Python 3"
    },
    "language_info": {
      "name": "python"
    }
  },
  "cells": [
    {
      "cell_type": "code",
      "metadata": {
        "id": "3zcxE3XB42OU"
      },
      "source": [
        "import hashlib\n",
        "import binascii"
      ],
      "execution_count": 52,
      "outputs": []
    },
    {
      "cell_type": "code",
      "metadata": {
        "id": "cy-SWcKt5mxo",
        "colab": {
          "base_uri": "https://localhost:8080/"
        },
        "outputId": "a0086f76-5cdd-4991-daaa-306899082e89"
      },
      "source": [
        "word = hashlib.md5(b\"Pyhton\")#Using Message Digest(MD5) Algorithm\n",
        "print(\"The byte conversion of given name is:\", end=\" \")\n",
        "print(word.digest())"
      ],
      "execution_count": 42,
      "outputs": [
        {
          "output_type": "stream",
          "text": [
            "The byte conversion of given name is: b'c\\\\\\xfe\\x8d.\\x1di\\xa7S\\xa4sB\\x17r\\xed\\x8d'\n"
          ],
          "name": "stdout"
        }
      ]
    },
    {
      "cell_type": "code",
      "metadata": {
        "colab": {
          "base_uri": "https://localhost:8080/"
        },
        "id": "9pnyF-ESsrYO",
        "outputId": "2eeef35c-0710-4923-cda8-18b1d0a8419c"
      },
      "source": [
        "word1 = hashlib.sha256(b\"Python\")#Using Secure Hash Algorithm(SHA)\n",
        "print(\"The byte conversion of given name is:\", end=\" \")\n",
        "print(word1.digest())\n"
      ],
      "execution_count": 43,
      "outputs": [
        {
          "output_type": "stream",
          "text": [
            "The byte conversion of given name is: b\"\\x18\\x88_'\\xb5\\xaf\\x90\\x12\\xdf\\x19\\xe4\\x96F\\x0f\\x92\\x94\\xd5\\xabv\\x12\\x88$\\xc6\\xf9\\x93xp\\x04\\xf6\\xd9\\xa7\\xdb\"\n"
          ],
          "name": "stdout"
        }
      ]
    },
    {
      "cell_type": "code",
      "metadata": {
        "colab": {
          "base_uri": "https://localhost:8080/"
        },
        "id": "knxk9dsG80Dx",
        "outputId": "3fd076e6-ecd0-49db-db06-d2e47be6dbbb"
      },
      "source": [
        "word2 = hashlib.new(\"ripemd160\")#Using RACE Integrity Primitives Evaluation Message Digest(RIPEMD) Algorithm\n",
        "word2.update(b\"Python\")\n",
        "print(\"The byte conversion of given name is:\", end=\" \")\n",
        "print(word.digest())"
      ],
      "execution_count": 44,
      "outputs": [
        {
          "output_type": "stream",
          "text": [
            "The byte conversion of given name is: b'c\\\\\\xfe\\x8d.\\x1di\\xa7S\\xa4sB\\x17r\\xed\\x8d'\n"
          ],
          "name": "stdout"
        }
      ]
    },
    {
      "cell_type": "code",
      "metadata": {
        "colab": {
          "base_uri": "https://localhost:8080/"
        },
        "id": "WMCTfYtqhpQV",
        "outputId": "9a352f2a-b751-46c4-cb34-55dba8e0805a"
      },
      "source": [
        "#Adding Salting and Iteration using inbulit function pbkdf2_hmac\n",
        "Salted_password = hashlib.pbkdf2_hmac(\"sha256\",b\"Python\", b\"salt\", 6)#Number of iteration here is 6\n",
        "print(binascii.hexlify(Salted_password))"
      ],
      "execution_count": 53,
      "outputs": [
        {
          "output_type": "stream",
          "text": [
            "b'd961b1a42777c6991ef9935e25b0f817ca606932ab900755e57a47e05027cda7'\n"
          ],
          "name": "stdout"
        }
      ]
    }
  ]
}